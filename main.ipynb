{
 "cells": [
  {
   "cell_type": "code",
   "execution_count": 34,
   "id": "ba42ce34",
   "metadata": {},
   "outputs": [],
   "source": [
    "from langchain.document_loaders import PyPDFLoader\n",
    "import re\n",
    "from langchain.schema import Document\n",
    "from langchain.text_splitter import RecursiveCharacterTextSplitter\n",
    "from langchain_community.embeddings import FastEmbedEmbeddings\n",
    "from langchain_community.vectorstores import Chroma\n",
    "from langchain_community.chat_models import ChatOllama\n",
    "from langchain.prompts import PromptTemplate\n",
    "from langchain.chains.combine_documents import create_stuff_documents_chain\n",
    "from langchain.chains import create_retrieval_chain\n"
   ]
  },
  {
   "cell_type": "code",
   "execution_count": 2,
   "id": "e62b3505",
   "metadata": {},
   "outputs": [],
   "source": [
    "book = 'Soccernomics__World_Cup_Edition_-_Simon_Kuper.pdf'"
   ]
  },
  {
   "cell_type": "code",
   "execution_count": 3,
   "id": "b8db3bc0",
   "metadata": {},
   "outputs": [],
   "source": [
    "def load_content():\n",
    "    loader = PyPDFLoader(book)\n",
    "    documents = loader.load()\n",
    "    return documents"
   ]
  },
  {
   "cell_type": "code",
   "execution_count": 4,
   "id": "301cc99e",
   "metadata": {},
   "outputs": [],
   "source": [
    "docs = load_content()"
   ]
  },
  {
   "cell_type": "code",
   "execution_count": 5,
   "id": "bebafe90",
   "metadata": {},
   "outputs": [
    {
     "name": "stdout",
     "output_type": "stream",
     "text": [
      "Loaded 434 pages from the book.\n"
     ]
    }
   ],
   "source": [
    "print(f\"Loaded {len(docs)} pages from the book.\")"
   ]
  },
  {
   "cell_type": "code",
   "execution_count": 6,
   "id": "c778d65b",
   "metadata": {},
   "outputs": [],
   "source": [
    "def clean_docs(documents):\n",
    "    cleaned = []\n",
    "    for doc in documents:\n",
    "        text = doc.page_content\n",
    "        # Remove page numbers and extra whitespace\n",
    "        text = re.sub(r'\\n\\d+\\n', '\\n', text)  \n",
    "        text = re.sub(r'\\s+', ' ', text).strip()\n",
    "        \n",
    "        cleaned.append(Document(\n",
    "            page_content=text,\n",
    "            metadata=doc.metadata\n",
    "        ))\n",
    "    return cleaned\n",
    "\n",
    "docs_cleaned = clean_docs(docs)"
   ]
  },
  {
   "cell_type": "code",
   "execution_count": 7,
   "id": "7062b7ef",
   "metadata": {},
   "outputs": [
    {
     "name": "stdout",
     "output_type": "stream",
     "text": [
      "1326\n"
     ]
    }
   ],
   "source": [
    "text_split = RecursiveCharacterTextSplitter(\n",
    "    chunk_size = 1000,\n",
    "    chunk_overlap = 200,\n",
    "    length_function = len,\n",
    "    add_start_index = True\n",
    ")\n",
    "chunks = text_split.split_documents(docs)\n",
    "print(len(chunks))"
   ]
  },
  {
   "cell_type": "code",
   "execution_count": 12,
   "id": "5094e597",
   "metadata": {},
   "outputs": [],
   "source": [
    "embedding = FastEmbedEmbeddings()\n",
    "vector_store = Chroma.from_documents(\n",
    "    documents=chunks,\n",
    "    embedding=embedding,\n",
    "    persist_directory=\"./soccer_chroma_db\"\n",
    ")"
   ]
  },
  {
   "cell_type": "code",
   "execution_count": 13,
   "id": "a4847a03",
   "metadata": {},
   "outputs": [],
   "source": [
    "retriever = vector_store.as_retriever(search_kwargs={\"k\": 3})"
   ]
  },
  {
   "cell_type": "code",
   "execution_count": null,
   "id": "7b7ec7c7",
   "metadata": {},
   "outputs": [
    {
     "name": "stdout",
     "output_type": "stream",
     "text": [
      "Answer:\n",
      " The main thesis of Soccernomics is that sports teams are not completely rational and that data analysis can be used to gain a competitive edge in the sport. It applies the lessons learned from Moneyball (a book about baseball) to the world of soccer, using statistics, economics, psychology, and intuition to transform the sport.\n",
      "\n",
      "Sources:\n",
      "- Soccernomics__World_Cup_Edition_-_Simon_Kuper.pdf\n",
      "SOCCERNOMICS ...\n",
      "\n",
      "- Soccernomics__World_Cup_Edition_-_Simon_Kuper.pdf\n",
      "threat\trather\tthan\tas\ta\ttool.”\tBaseball\thas\thad\tits\t“Moneyball”\trevolution,\tbut\n",
      "in\tsoccer,\tthe\ttransformation\thas\tonly\tjust\tbegun.\tThis\tnew,\tupdated,\n",
      "expanded\tedition\tof\t\n",
      "Soccernomics—Soccernomics\t3.0,\n",
      "\tas\twe\tthink\tof\tit—uses\n",
      "data\tto\tclarify\tthinking\ton\ttopics\tranging\tfrom\ttackles\tthrough\ttransfers\t ...\n",
      "\n",
      "- Soccernomics__World_Cup_Edition_-_Simon_Kuper.pdf\n",
      "is\n",
      "\tone.”\n",
      "—\n",
      "Blogcritics\n",
      "“A\t must\t read\t for\t any\t fan\t of\t the\t business\t of\t soccer.\t .\t .\n",
      ".”\n",
      "—\n",
      "Footiebusiness.com\n",
      "“\n",
      "Soccernomics\n",
      "\t.\t.\t.\ttackles\tthe\tsoccer\tworld’s\tmost\tprobing\tquestions\twith\ta\n",
      "dispassionate\tanalysis\tbased\ton\teconomic\tformulas,\twhich\tseparate\tfact\tfrom\n",
      "accepted-as-fact\tmyths\tperpet ...\n",
      "\n",
      "Answer:\n",
      " The World Cup has a negligible impact on the global economy, as it generates spending of €2.8 billion by visitors, which is significantly less than the annual consumer spending in Germany (over €1 trillion). Additionally, hosting sports tournaments does not increase the number of tourists, full-time jobs, or total economic output.\n",
      "\n",
      "Sources:\n",
      "- Soccernomics__World_Cup_Edition_-_Simon_Kuper.pdf\n",
      "Preuss’s\tteam\tcalled\tthis\tlast\tcategory\t“casuals.”\n",
      "“Time\tswitchers”\tand\t“casuals”\twould\thave\tadded\tlittle\tto\tspending,\n",
      "because\teven\twithout\tthe\tWorld\tCup\tthey\twould\thave\tspent\ttheir\tmoney\tin\n",
      "Germany.\tPreuss’s\tteam\tasked\trespondents\tdetailed\tquestions\tabout\ttheir\n",
      "spending\tplans.\tThey\tconcluded\tthat\tt ...\n",
      "\n",
      "- Soccernomics__World_Cup_Edition_-_Simon_Kuper.pdf\n",
      "It\tshould\tbe\tadded\tthat\tour\testimates\tare\tstatistically\tvery\treliable.\tNot\n",
      "only\tis\tthere\tnot\tmuch\tdoubt\tthat\tthese\tfactors\tmatter,\tbut\tthere\tis\tlittle\tdoubt\n",
      "about\tthe\tsize\tof\tthe\teffects.\tIt\tis\tthese\teffects\tthat\tmake\tthe\tfirst\trounds\tof\n",
      "World\tCups\tfairly\tpredictable.\n",
      "However,\tmuch\tstill\tremains\tune ...\n",
      "\n",
      "- Soccernomics__World_Cup_Edition_-_Simon_Kuper.pdf\n",
      "benefit\tfrom\t“word\tof\tmouth\tand\tgoodwill\tfor\tyears\tto\tcome”\tafter\t2010.\n",
      "Similarly,\tSilva\ttold\tus\tthat\tthe\t2014\tWorld\tCup\twould\tpromote\tBrazil’s\n",
      "image\tin\tthe\tworld.\tWell,\tmaybe.\tFirst\tof\tall,\tas\tthe\tAmerican\tsports\n",
      "economist\t Andrew\t Zimbalist\t says,\t “Brazil\t is\t hardly\t a\t secret\t as\t an\n",
      "internatio ...\n",
      "\n"
     ]
    }
   ],
   "source": [
    "\n",
    "\n",
    "prompt = PromptTemplate.from_template(\n",
    "    \"\"\"\n",
    "    <s> [Instructions] You are a friendly assistant. Answer the question based only on the following context.\n",
    "    If you don't know the answer, then reply, No Context available for this question {input}. [/Instructions] </s>\n",
    "    [Instructions] Question: {input}\n",
    "    Context: {context}\n",
    "    Answer: [/Instructions]\n",
    "    \"\"\"\n",
    ")\n",
    "\n",
    "\n",
    "model = ChatOllama(model=\"llama3\")\n",
    "\n",
    "\n",
    "embedding = FastEmbedEmbeddings()\n",
    "vector_store = Chroma(persist_directory=\"./soccer_chroma_db\", embedding_function=embedding)\n",
    "\n",
    "\n",
    "retriever = vector_store.as_retriever(search_kwargs={\"k\": 3})\n",
    "\n",
    "\n",
    "document_chain = create_stuff_documents_chain(model, prompt)\n",
    "\n",
    "rag_chain = create_retrieval_chain(retriever, document_chain)\n",
    "\n",
    "\n",
    "def ask(query: str):\n",
    "    result = rag_chain.invoke({\"input\": query})\n",
    "    print(\"Answer:\\n\", result[\"answer\"])\n",
    "    print(\"\\nSources:\")\n",
    "    for doc in result[\"context\"]:\n",
    "        print(\"-\", doc.metadata.get(\"source\", \"Unknown source\"))\n",
    "        print(doc.page_content[:300], \"...\\n\")\n",
    "\n"
   ]
  },
  {
   "cell_type": "code",
   "execution_count": 35,
   "id": "d48835c9",
   "metadata": {},
   "outputs": [
    {
     "name": "stdout",
     "output_type": "stream",
     "text": [
      "Answer:\n",
      " The main thesis of Soccernomics is that the lessons of Moneyball (sports teams are not completely rational) apply to the world's favorite sport, soccer. The book uses data, statistics, economics, psychology, and intuition to transform a dogmatic sport by putting it under an analytical microscope.\n",
      "\n",
      "Sources:\n",
      "- Soccernomics__World_Cup_Edition_-_Simon_Kuper.pdf\n",
      "SOCCERNOMICS ...\n",
      "\n",
      "- Soccernomics__World_Cup_Edition_-_Simon_Kuper.pdf\n",
      "threat\trather\tthan\tas\ta\ttool.”\tBaseball\thas\thad\tits\t“Moneyball”\trevolution,\tbut\n",
      "in\tsoccer,\tthe\ttransformation\thas\tonly\tjust\tbegun.\tThis\tnew,\tupdated,\n",
      "expanded\tedition\tof\t\n",
      "Soccernomics—Soccernomics\t3.0,\n",
      "\tas\twe\tthink\tof\tit—uses\n",
      "data\tto\tclarify\tthinking\ton\ttopics\tranging\tfrom\ttackles\tthrough\ttransfers\t ...\n",
      "\n",
      "- Soccernomics__World_Cup_Edition_-_Simon_Kuper.pdf\n",
      "is\n",
      "\tone.”\n",
      "—\n",
      "Blogcritics\n",
      "“A\t must\t read\t for\t any\t fan\t of\t the\t business\t of\t soccer.\t .\t .\n",
      ".”\n",
      "—\n",
      "Footiebusiness.com\n",
      "“\n",
      "Soccernomics\n",
      "\t.\t.\t.\ttackles\tthe\tsoccer\tworld’s\tmost\tprobing\tquestions\twith\ta\n",
      "dispassionate\tanalysis\tbased\ton\teconomic\tformulas,\twhich\tseparate\tfact\tfrom\n",
      "accepted-as-fact\tmyths\tperpet ...\n",
      "\n"
     ]
    }
   ],
   "source": [
    "ask(\"What is the main thesis of Soccernomics?\")\n",
    "\n"
   ]
  },
  {
   "cell_type": "code",
   "execution_count": null,
   "id": "91da39fc",
   "metadata": {},
   "outputs": [],
   "source": []
  }
 ],
 "metadata": {
  "kernelspec": {
   "display_name": "Python 3",
   "language": "python",
   "name": "python3"
  },
  "language_info": {
   "codemirror_mode": {
    "name": "ipython",
    "version": 3
   },
   "file_extension": ".py",
   "mimetype": "text/x-python",
   "name": "python",
   "nbconvert_exporter": "python",
   "pygments_lexer": "ipython3",
   "version": "3.10.0"
  }
 },
 "nbformat": 4,
 "nbformat_minor": 5
}
